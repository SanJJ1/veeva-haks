{
  "cells": [
    {
      "cell_type": "code",
      "execution_count": 1,
      "metadata": {
        "colab": {
          "base_uri": "https://localhost:8080/"
        },
        "id": "e-a8p3kMMUsX",
        "outputId": "dda26517-e307-47d3-e4ec-e6e64b22471e"
      },
      "outputs": [
        {
          "name": "stdout",
          "output_type": "stream",
          "text": [
            "Requirement already satisfied: pandas in /usr/local/lib/python3.7/dist-packages (1.1.5)\n",
            "Requirement already satisfied: pytz>=2017.2 in /usr/local/lib/python3.7/dist-packages (from pandas) (2018.9)\n",
            "Requirement already satisfied: numpy>=1.15.4 in /usr/local/lib/python3.7/dist-packages (from pandas) (1.19.5)\n",
            "Requirement already satisfied: python-dateutil>=2.7.3 in /usr/local/lib/python3.7/dist-packages (from pandas) (2.8.2)\n",
            "Requirement already satisfied: six>=1.5 in /usr/local/lib/python3.7/dist-packages (from python-dateutil>=2.7.3->pandas) (1.15.0)\n"
          ]
        }
      ],
      "source": [
        "!pip install pandas"
      ]
    },
    {
      "cell_type": "code",
      "execution_count": 3,
      "metadata": {
        "id": "AJOUli7aMfzo"
      },
      "outputs": [],
      "source": [
        "import pandas as pd"
      ]
    },
    {
      "cell_type": "code",
      "execution_count": 27,
      "metadata": {
        "id": "S2UNbS-xMtrs"
      },
      "outputs": [],
      "source": [
        "Cholecap = pd.read_csv('Cholecap.csv')\n",
        "Nasalclear = pd.read_csv('Nasalclear.csv')\n",
        "Novaitch = pd.read_csv('Nova-itch.csv')\n",
        "Zapapain = pd.read_csv('Zap-a-Pain.csv')"
      ]
    },
    {
      "cell_type": "code",
      "execution_count": 30,
      "metadata": {
        "colab": {
          "base_uri": "https://localhost:8080/"
        },
        "id": "FPMUt_38NDId",
        "outputId": "13172928-8f0b-4f0d-e007-d872174ab184"
      },
      "outputs": [
        {
          "name": "stdout",
          "output_type": "stream",
          "text": [
            "[35710, 34087, 34569, 34822, 33965, 36077]\n",
            "[14575, 14093, 12203, 13793, 14527, 13793]\n",
            "[14877, 16970, 16713, 16164, 16738, 16210]\n",
            "[34559, 34660, 37288, 33858, 36170, 35633]\n"
          ]
        }
      ],
      "source": [
        "monthstr = \"TRx_Month_\"\n",
        "CholecapMonthlyTotals = []\n",
        "NasalclearMonthlyTotals = []\n",
        "NovaitchMonthlyTotals = []\n",
        "ZapapainMonthlyTotals = []\n",
        "\n",
        "for i in range(6):\n",
        "  colTotal = Cholecap[monthstr + (str)(i+1)].sum()\n",
        "  CholecapMonthlyTotals.append(colTotal)\n",
        "  colTotal = Nasalclear[monthstr + (str)(i+1)].sum()\n",
        "  NasalclearMonthlyTotals.append(colTotal)\n",
        "  colTotal = Novaitch[monthstr + (str)(i+1)].sum()\n",
        "  NovaitchMonthlyTotals.append(colTotal)\n",
        "  colTotal = Zapapain[monthstr + (str)(i+1)].sum()\n",
        "  ZapapainMonthlyTotals.append(colTotal)\n",
        "print(CholecapMonthlyTotals)\n",
        "print(NasalclearMonthlyTotals)\n",
        "print(NovaitchMonthlyTotals)\n",
        "print(ZapapainMonthlyTotals)"
      ]
    },
    {
      "cell_type": "code",
      "execution_count": 31,
      "metadata": {
        "id": "Pltqp8cRQ3Il"
      },
      "outputs": [],
      "source": [
        "MonthlyTotalsfinalDF = pd.DataFrame({'Month': ['January', 'Feburary', 'March', 'April', 'May', 'June'],\n",
        "                   'Cholecap': CholecapmonthlyTotals,\n",
        "                   'Nasaslclear':NasalclearMonthlyTotals,\n",
        "                   'Novaitch': NovaitchMonthlyTotals,\n",
        "                   'Zap-a-pain': ZapapainMonthlyTotals})\n",
        "\n"
      ]
    },
    {
      "cell_type": "code",
      "execution_count": 33,
      "metadata": {
        "colab": {
          "base_uri": "https://localhost:8080/",
          "height": 235
        },
        "id": "WiWiALfOrhB6",
        "outputId": "dfe86049-5079-40d5-d2d7-87f14e601219"
      },
      "outputs": [
        {
          "data": {
            "text/html": [
              "<div>\n",
              "<style scoped>\n",
              "    .dataframe tbody tr th:only-of-type {\n",
              "        vertical-align: middle;\n",
              "    }\n",
              "\n",
              "    .dataframe tbody tr th {\n",
              "        vertical-align: top;\n",
              "    }\n",
              "\n",
              "    .dataframe thead th {\n",
              "        text-align: right;\n",
              "    }\n",
              "</style>\n",
              "<table border=\"1\" class=\"dataframe\">\n",
              "  <thead>\n",
              "    <tr style=\"text-align: right;\">\n",
              "      <th></th>\n",
              "      <th>Month</th>\n",
              "      <th>Cholecap</th>\n",
              "      <th>Nasaslclear</th>\n",
              "      <th>Novaitch</th>\n",
              "      <th>Zap-a-pain</th>\n",
              "    </tr>\n",
              "  </thead>\n",
              "  <tbody>\n",
              "    <tr>\n",
              "      <th>0</th>\n",
              "      <td>January</td>\n",
              "      <td>35710</td>\n",
              "      <td>14575</td>\n",
              "      <td>14877</td>\n",
              "      <td>34559</td>\n",
              "    </tr>\n",
              "    <tr>\n",
              "      <th>1</th>\n",
              "      <td>Feburary</td>\n",
              "      <td>34087</td>\n",
              "      <td>14093</td>\n",
              "      <td>16970</td>\n",
              "      <td>34660</td>\n",
              "    </tr>\n",
              "    <tr>\n",
              "      <th>2</th>\n",
              "      <td>March</td>\n",
              "      <td>34569</td>\n",
              "      <td>12203</td>\n",
              "      <td>16713</td>\n",
              "      <td>37288</td>\n",
              "    </tr>\n",
              "    <tr>\n",
              "      <th>3</th>\n",
              "      <td>April</td>\n",
              "      <td>34822</td>\n",
              "      <td>13793</td>\n",
              "      <td>16164</td>\n",
              "      <td>33858</td>\n",
              "    </tr>\n",
              "    <tr>\n",
              "      <th>4</th>\n",
              "      <td>May</td>\n",
              "      <td>33965</td>\n",
              "      <td>14527</td>\n",
              "      <td>16738</td>\n",
              "      <td>36170</td>\n",
              "    </tr>\n",
              "    <tr>\n",
              "      <th>5</th>\n",
              "      <td>June</td>\n",
              "      <td>36077</td>\n",
              "      <td>13793</td>\n",
              "      <td>16210</td>\n",
              "      <td>35633</td>\n",
              "    </tr>\n",
              "  </tbody>\n",
              "</table>\n",
              "</div>"
            ],
            "text/plain": [
              "      Month  Cholecap  Nasaslclear  Novaitch  Zap-a-pain\n",
              "0   January     35710        14575     14877       34559\n",
              "1  Feburary     34087        14093     16970       34660\n",
              "2     March     34569        12203     16713       37288\n",
              "3     April     34822        13793     16164       33858\n",
              "4       May     33965        14527     16738       36170\n",
              "5      June     36077        13793     16210       35633"
            ]
          },
          "execution_count": 33,
          "metadata": {},
          "output_type": "execute_result"
        }
      ],
      "source": [
        "MonthlyTotalsfinalDF"
      ]
    },
    {
      "cell_type": "code",
      "execution_count": 34,
      "metadata": {
        "id": "rznkn6lIRoeQ"
      },
      "outputs": [],
      "source": [
        "MonthlyTotalsfinalDF.to_csv('MonthlyTotalsByProduct.csv', index=False)  "
      ]
    }
  ],
  "metadata": {
    "colab": {
      "collapsed_sections": [],
      "name": "trendOfTotalPrescriptions.ipynb",
      "provenance": []
    },
    "kernelspec": {
      "display_name": "Python 3",
      "name": "python3"
    },
    "language_info": {
      "name": "python",
      "version": "3.9.7"
    }
  },
  "nbformat": 4,
  "nbformat_minor": 0
}
